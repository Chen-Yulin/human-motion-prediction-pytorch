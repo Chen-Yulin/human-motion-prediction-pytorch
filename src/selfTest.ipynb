{
 "cells": [
  {
   "cell_type": "code",
   "execution_count": 65,
   "id": "60bf3e00",
   "metadata": {},
   "outputs": [],
   "source": [
    "from data_utils import readCSVasFloat\n",
    "from data_utils import load_data\n",
    "from data_utils import normalization_stats\n",
    "from data_utils import normalize_data\n",
    "import os\n",
    "import numpy as np"
   ]
  },
  {
   "cell_type": "code",
   "execution_count": 26,
   "id": "5956a814",
   "metadata": {},
   "outputs": [],
   "source": [
    "walking_data = readCSVasFloat(\"../data/h3.6m/dataset/S1/walking_1.txt\")"
   ]
  },
  {
   "cell_type": "code",
   "execution_count": 27,
   "id": "3dccb99b",
   "metadata": {},
   "outputs": [
    {
     "data": {
      "text/plain": [
       "(3476, 99)"
      ]
     },
     "execution_count": 27,
     "metadata": {},
     "output_type": "execute_result"
    }
   ],
   "source": [
    "walking_data.shape"
   ]
  },
  {
   "cell_type": "code",
   "execution_count": null,
   "id": "44c89617",
   "metadata": {},
   "outputs": [],
   "source": []
  },
  {
   "cell_type": "code",
   "execution_count": 28,
   "id": "da41a384",
   "metadata": {},
   "outputs": [
    {
     "data": {
      "text/plain": [
       "numpy.ndarray"
      ]
     },
     "execution_count": 28,
     "metadata": {},
     "output_type": "execute_result"
    }
   ],
   "source": [
    "type(walking_data)"
   ]
  },
  {
   "cell_type": "code",
   "execution_count": 38,
   "id": "cb74640c",
   "metadata": {},
   "outputs": [
    {
     "name": "stdout",
     "output_type": "stream",
     "text": [
      "Reading subject 1, action walking, subaction 1\n",
      "Reading subject 1, action walking, subaction 2\n",
      "Reading subject 5, action walking, subaction 1\n",
      "Reading subject 5, action walking, subaction 2\n",
      "Reading subject 6, action walking, subaction 1\n",
      "Reading subject 6, action walking, subaction 2\n"
     ]
    }
   ],
   "source": [
    "train_data, complete_data = load_data(os.path.normpath(\"../data/h3.6m/dataset\"),[1,5,6],[\"walking\"],True)"
   ]
  },
  {
   "cell_type": "code",
   "execution_count": 39,
   "id": "79e1f60b",
   "metadata": {},
   "outputs": [
    {
     "data": {
      "text/plain": [
       "{(1,\n",
       "  'walking',\n",
       "  1,\n",
       "  'even'): array([[ 0.        ,  0.        ,  0.        , ..., -0.        ,\n",
       "         -0.        ,  1.        ],\n",
       "        [-0.0741344 , -0.1278127 , -0.35044691, ..., -0.        ,\n",
       "         -0.        ,  1.        ],\n",
       "        [-0.1898354 , -0.0664728 , -0.2320935 , ..., -0.        ,\n",
       "         -0.        ,  1.        ],\n",
       "        ...,\n",
       "        [ 1.22773898,  1.31687856, 16.17030907, ..., -0.        ,\n",
       "         -0.        ,  1.        ],\n",
       "        [ 3.05330348,  2.151896  , 15.68181229, ..., -0.        ,\n",
       "         -0.        ,  1.        ],\n",
       "        [ 4.04508209,  3.94907975, 17.00298882, ..., -0.        ,\n",
       "         -0.        ,  1.        ]]),\n",
       " (1,\n",
       "  'walking',\n",
       "  2,\n",
       "  'even'): array([[ 0.00000000e+00,  0.00000000e+00,  0.00000000e+00, ...,\n",
       "         -0.00000000e+00, -0.00000000e+00,  1.00000000e+00],\n",
       "        [ 4.96817112e-01,  4.24606018e-02,  3.88480984e-02, ...,\n",
       "         -0.00000000e+00, -0.00000000e+00,  1.00000000e+00],\n",
       "        [ 4.44745600e-01,  1.83690002e-03, -5.18541001e-02, ...,\n",
       "         -0.00000000e+00, -0.00000000e+00,  1.00000000e+00],\n",
       "        ...,\n",
       "        [-3.49922061e+00,  3.88136387e-01,  7.26566172e+00, ...,\n",
       "         -0.00000000e+00, -0.00000000e+00,  1.00000000e+00],\n",
       "        [-3.94348478e+00,  1.73445806e-01,  8.33240318e+00, ...,\n",
       "         -0.00000000e+00, -0.00000000e+00,  1.00000000e+00],\n",
       "        [-3.73216438e+00,  1.25487000e-02,  9.59773445e+00, ...,\n",
       "         -0.00000000e+00, -0.00000000e+00,  1.00000000e+00]]),\n",
       " (5,\n",
       "  'walking',\n",
       "  1,\n",
       "  'even'): array([[ 0.00000000e+00,  0.00000000e+00,  0.00000000e+00, ...,\n",
       "         -0.00000000e+00, -0.00000000e+00,  1.00000000e+00],\n",
       "        [-6.60396963e-02,  2.29941998e-02,  4.98842001e-02, ...,\n",
       "         -0.00000000e+00, -0.00000000e+00,  1.00000000e+00],\n",
       "        [-3.22710015e-02, -5.30220009e-03, -6.88980008e-03, ...,\n",
       "         -0.00000000e+00, -0.00000000e+00,  1.00000000e+00],\n",
       "        ...,\n",
       "        [-5.68070412e-01,  5.29745877e-01,  1.35878134e+01, ...,\n",
       "         -0.00000000e+00, -0.00000000e+00,  1.00000000e+00],\n",
       "        [-9.36992228e-01, -2.59994805e-01,  1.41405506e+01, ...,\n",
       "         -0.00000000e+00, -0.00000000e+00,  1.00000000e+00],\n",
       "        [-1.31311560e+00, -9.27517474e-01,  1.39219685e+01, ...,\n",
       "         -0.00000000e+00, -0.00000000e+00,  1.00000000e+00]]),\n",
       " (5,\n",
       "  'walking',\n",
       "  2,\n",
       "  'even'): array([[ 0.        ,  0.        ,  0.        , ..., -0.        ,\n",
       "         -0.        ,  1.        ],\n",
       "        [ 0.37753889, -0.0282933 , -0.0983951 , ..., -0.        ,\n",
       "         -0.        ,  1.        ],\n",
       "        [ 0.39583859, -0.0507011 , -0.0665984 , ..., -0.        ,\n",
       "         -0.        ,  1.        ],\n",
       "        ...,\n",
       "        [ 0.90207392, -0.40182769, 13.13822365, ..., -0.        ,\n",
       "         -0.        ,  1.        ],\n",
       "        [ 1.27429295, -0.4065741 , 13.70846558, ..., -0.        ,\n",
       "         -0.        ,  1.        ],\n",
       "        [ 1.72973418, -0.1361399 , 14.40305996, ..., -0.        ,\n",
       "         -0.        ,  1.        ]]),\n",
       " (6,\n",
       "  'walking',\n",
       "  1,\n",
       "  'even'): array([[ 0.        ,  0.        ,  0.        , ..., -0.        ,\n",
       "         -0.        ,  1.        ],\n",
       "        [-0.78119552, -0.26782009, -1.78139603, ..., -0.        ,\n",
       "         -0.        ,  1.        ],\n",
       "        [-0.81879622, -0.32277149, -1.90811086, ..., -0.        ,\n",
       "         -0.        ,  1.        ],\n",
       "        ...,\n",
       "        [ 0.0261054 , -1.48837769, -0.32361639, ..., -0.        ,\n",
       "         -0.        ,  1.        ],\n",
       "        [-0.1739582 , -1.39644802, -0.60551018, ..., -0.        ,\n",
       "         -0.        ,  1.        ],\n",
       "        [-0.2027521 , -1.13588238, -1.00442696, ..., -0.        ,\n",
       "         -0.        ,  1.        ]]),\n",
       " (6,\n",
       "  'walking',\n",
       "  2,\n",
       "  'even'): array([[ 0.        ,  0.        ,  0.        , ..., -0.        ,\n",
       "         -0.        ,  1.        ],\n",
       "        [-0.0150967 , -0.0812421 ,  0.073302  , ..., -0.        ,\n",
       "         -0.        ,  1.        ],\n",
       "        [-0.36713719, -0.0542348 ,  0.1614487 , ..., -0.        ,\n",
       "         -0.        ,  1.        ],\n",
       "        ...,\n",
       "        [-0.49625301, -0.37710059,  1.25907326, ..., -0.        ,\n",
       "         -0.        ,  1.        ],\n",
       "        [-0.3594414 , -0.1808235 ,  2.49664259, ..., -0.        ,\n",
       "         -0.        ,  1.        ],\n",
       "        [ 0.76511192, -0.73184627,  3.2003274 , ..., -0.        ,\n",
       "         -0.        ,  1.        ]])}"
      ]
     },
     "execution_count": 39,
     "metadata": {},
     "output_type": "execute_result"
    }
   ],
   "source": [
    "train_data"
   ]
  },
  {
   "cell_type": "code",
   "execution_count": 40,
   "id": "a299b71d",
   "metadata": {},
   "outputs": [
    {
     "data": {
      "text/plain": [
       "(1738, 100)"
      ]
     },
     "execution_count": 40,
     "metadata": {},
     "output_type": "execute_result"
    }
   ],
   "source": [
    "train_data[(1,\n",
    "   'walking',\n",
    "   1,\n",
    "   'even')].shape"
   ]
  },
  {
   "cell_type": "code",
   "execution_count": 41,
   "id": "03815276",
   "metadata": {},
   "outputs": [
    {
     "data": {
      "text/plain": [
       "(1567, 100)"
      ]
     },
     "execution_count": 41,
     "metadata": {},
     "output_type": "execute_result"
    }
   ],
   "source": [
    "train_data[(1,\n",
    "   'walking',\n",
    "   2,\n",
    "   'even')].shape"
   ]
  },
  {
   "cell_type": "code",
   "execution_count": 42,
   "id": "5687cf9f",
   "metadata": {},
   "outputs": [
    {
     "data": {
      "text/plain": [
       "(18495, 99)"
      ]
     },
     "execution_count": 42,
     "metadata": {},
     "output_type": "execute_result"
    }
   ],
   "source": [
    "complete_data.shape"
   ]
  },
  {
   "cell_type": "code",
   "execution_count": 45,
   "id": "b0e9ef5c",
   "metadata": {},
   "outputs": [],
   "source": [
    "data_mean, data_std, dim_to_ignore, dim_to_use = normalization_stats(complete_data)"
   ]
  },
  {
   "cell_type": "code",
   "execution_count": 49,
   "id": "ab15985d",
   "metadata": {},
   "outputs": [
    {
     "data": {
      "text/plain": [
       "[10,\n",
       " 11,\n",
       " 16,\n",
       " 17,\n",
       " 18,\n",
       " 19,\n",
       " 20,\n",
       " 25,\n",
       " 26,\n",
       " 31,\n",
       " 32,\n",
       " 33,\n",
       " 34,\n",
       " 35,\n",
       " 48,\n",
       " 49,\n",
       " 50,\n",
       " 58,\n",
       " 59,\n",
       " 63,\n",
       " 64,\n",
       " 65,\n",
       " 66,\n",
       " 67,\n",
       " 68,\n",
       " 69,\n",
       " 70,\n",
       " 71,\n",
       " 72,\n",
       " 73,\n",
       " 74,\n",
       " 82,\n",
       " 83,\n",
       " 87,\n",
       " 88,\n",
       " 89,\n",
       " 90,\n",
       " 91,\n",
       " 92,\n",
       " 93,\n",
       " 94,\n",
       " 95,\n",
       " 96,\n",
       " 97,\n",
       " 98]"
      ]
     },
     "execution_count": 49,
     "metadata": {},
     "output_type": "execute_result"
    }
   ],
   "source": [
    "dim_to_ignore"
   ]
  },
  {
   "cell_type": "code",
   "execution_count": 54,
   "id": "1943433f",
   "metadata": {},
   "outputs": [],
   "source": [
    "train_set = normalize_data( train_data, data_mean, data_std, dim_to_use, ['walking'], True)"
   ]
  },
  {
   "cell_type": "code",
   "execution_count": 63,
   "id": "ec09b734",
   "metadata": {},
   "outputs": [
    {
     "data": {
      "text/plain": [
       "(1738, 55)"
      ]
     },
     "execution_count": 63,
     "metadata": {},
     "output_type": "execute_result"
    }
   ],
   "source": [
    "train_set[(1,\n",
    "   'walking',\n",
    "   1,\n",
    "   'even')].shape"
   ]
  },
  {
   "cell_type": "code",
   "execution_count": 68,
   "id": "651c42e3",
   "metadata": {},
   "outputs": [],
   "source": [
    "idx = np.random.randint( 16, 1440-(20+50) )"
   ]
  },
  {
   "cell_type": "code",
   "execution_count": 69,
   "id": "f66f4a79",
   "metadata": {},
   "outputs": [
    {
     "data": {
      "text/plain": [
       "1094"
      ]
     },
     "execution_count": 69,
     "metadata": {},
     "output_type": "execute_result"
    }
   ],
   "source": [
    "idx"
   ]
  }
 ],
 "metadata": {
  "kernelspec": {
   "display_name": "Python 3 (ipykernel)",
   "language": "python",
   "name": "python3"
  },
  "language_info": {
   "codemirror_mode": {
    "name": "ipython",
    "version": 3
   },
   "file_extension": ".py",
   "mimetype": "text/x-python",
   "name": "python",
   "nbconvert_exporter": "python",
   "pygments_lexer": "ipython3",
   "version": "3.9.5"
  }
 },
 "nbformat": 4,
 "nbformat_minor": 5
}
