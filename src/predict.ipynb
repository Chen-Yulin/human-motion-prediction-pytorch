{
 "cells": [
  {
   "cell_type": "code",
   "execution_count": 2,
   "id": "e98d34c1",
   "metadata": {},
   "outputs": [],
   "source": [
    "import numpy as np\n",
    "import data_utils\n",
    "import seq2seq_model\n",
    "import torch\n",
    "import argparse\n",
    "import os"
   ]
  },
  {
   "cell_type": "code",
   "execution_count": 3,
   "id": "73097b92",
   "metadata": {},
   "outputs": [],
   "source": [
    "train_dir = os.path.normpath(os.path.join( \"../experiments/\", \"walking\",\n",
    "  'out_{0}'.format(25),\n",
    "  'iterations_{0}'.format(10000),\n",
    "  \"tied\",\n",
    "  \"sampling_based\",\n",
    "  'one_hot',\n",
    "  'depth_{0}'.format(1),\n",
    "  'size_{0}'.format(1024),\n",
    "  'lr_{0}'.format(0.005),\n",
    "  'not_residual_vel'))"
   ]
  },
  {
   "cell_type": "code",
   "execution_count": 4,
   "id": "f69f0fc1",
   "metadata": {},
   "outputs": [],
   "source": [
    "def loadModel():\n",
    "    train_dir\n",
    "    model = seq2seq_model.Seq2SeqModel(\n",
    "        'tied',\n",
    "        50,\n",
    "        25,\n",
    "        1024, # hidden layer size\n",
    "        1,\n",
    "        5,\n",
    "        16,\n",
    "        0.005,\n",
    "        0.95,\n",
    "        \"sampling_based\",\n",
    "        1,\n",
    "        True,\n",
    "        False,\n",
    "        dtype=torch.float32)\n",
    "    \n",
    "    print(\"Loading model\")\n",
    "    model = torch.load(train_dir + '/model_' + \"10000\")\n",
    "    return model"
   ]
  },
  {
   "cell_type": "code",
   "execution_count": 5,
   "id": "61644915",
   "metadata": {},
   "outputs": [
    {
     "name": "stdout",
     "output_type": "stream",
     "text": [
      "One hot is  True\n",
      "Input size is 55\n",
      "rnn_size = 1024\n",
      "Loading model\n"
     ]
    }
   ],
   "source": [
    "model = loadModel()"
   ]
  },
  {
   "cell_type": "code",
   "execution_count": 6,
   "id": "ae96438f",
   "metadata": {},
   "outputs": [
    {
     "data": {
      "text/plain": [
       "Seq2SeqModel(\n",
       "  (cell): GRUCell(55, 1024)\n",
       "  (fc1): Linear(in_features=1024, out_features=55, bias=True)\n",
       ")"
      ]
     },
     "execution_count": 6,
     "metadata": {},
     "output_type": "execute_result"
    }
   ],
   "source": [
    "model"
   ]
  },
  {
   "cell_type": "code",
   "execution_count": 7,
   "id": "0c6ea86b",
   "metadata": {},
   "outputs": [
    {
     "data": {
      "text/plain": [
       "Seq2SeqModel(\n",
       "  (cell): GRUCell(55, 1024)\n",
       "  (fc1): Linear(in_features=1024, out_features=55, bias=True)\n",
       ")"
      ]
     },
     "execution_count": 7,
     "metadata": {},
     "output_type": "execute_result"
    }
   ],
   "source": [
    "model.eval()"
   ]
  },
  {
   "cell_type": "code",
   "execution_count": 16,
   "id": "a64da7fb",
   "metadata": {},
   "outputs": [],
   "source": [
    "encoder_input = torch.from_numpy(np.zeros((16,49,55), dtype=float)).float().cuda()"
   ]
  },
  {
   "cell_type": "code",
   "execution_count": 17,
   "id": "0e2cdf30",
   "metadata": {},
   "outputs": [],
   "source": [
    "decoder_input = torch.from_numpy(np.zeros((16,10,55), dtype=float)).float().cuda()"
   ]
  },
  {
   "cell_type": "code",
   "execution_count": 19,
   "id": "0e963da6",
   "metadata": {},
   "outputs": [],
   "source": [
    "pred = model(encoder_input, decoder_input)"
   ]
  },
  {
   "cell_type": "code",
   "execution_count": 20,
   "id": "bf57e21a",
   "metadata": {},
   "outputs": [
    {
     "data": {
      "text/plain": [
       "torch.Size([16, 10, 55])"
      ]
     },
     "execution_count": 20,
     "metadata": {},
     "output_type": "execute_result"
    }
   ],
   "source": [
    "pred.shape"
   ]
  },
  {
   "cell_type": "code",
   "execution_count": null,
   "id": "b1106a14",
   "metadata": {},
   "outputs": [],
   "source": []
  }
 ],
 "metadata": {
  "kernelspec": {
   "display_name": "Python 3 (ipykernel)",
   "language": "python",
   "name": "python3"
  },
  "language_info": {
   "codemirror_mode": {
    "name": "ipython",
    "version": 3
   },
   "file_extension": ".py",
   "mimetype": "text/x-python",
   "name": "python",
   "nbconvert_exporter": "python",
   "pygments_lexer": "ipython3",
   "version": "3.9.5"
  }
 },
 "nbformat": 4,
 "nbformat_minor": 5
}
